{
 "cells": [
  {
   "cell_type": "code",
   "execution_count": 1,
   "metadata": {},
   "outputs": [],
   "source": [
    "from __future__ import division\n",
    "\n",
    "# classic\n",
    "%matplotlib inline\n",
    "import numpy as np\n",
    "import scipy as sp\n",
    "import matplotlib.pyplot as plt\n",
    "import os,sys\n",
    "import scipy.stats\n",
    "\n",
    "# some nice formating things\n",
    "plt.rc('font', family='serif', size=25)\n",
    "plt.rc('legend', fontsize=12)\n",
    "plt.rc('axes', labelsize=25)\n",
    "plt.rc('axes', titlesize=25)"
   ]
  },
  {
   "cell_type": "markdown",
   "metadata": {},
   "source": [
    "## Load the HESE neutrino event sample"
   ]
  },
  {
   "cell_type": "code",
   "execution_count": 2,
   "metadata": {},
   "outputs": [],
   "source": [
    "def loadEvents(filename):\n",
    "    ID,E,EerrMin,EerrMax,DEC,RA,AngEr = np.loadtxt(filename,comments='#',usecols=(0,1,2,3,5,6,7), unpack =True)\n",
    "    topo = np.loadtxt(filename,comments='#',usecols=[8], unpack =True, dtype = 'str')\n",
    "    \n",
    "    array = np.recarray(len(E), [('topology', topo.dtype), # track or shower\n",
    "                                 ('energy', float), # deposited energy in TeV\n",
    "                                 ('energy_error', float), # error on deposited energy in TeV\n",
    "                                 ('RA', float),  # position in right asension (radians)\n",
    "                                 ('DEC', float), # position in declination (radians)\n",
    "                                 ('ID', int), # event ID\n",
    "                                 ('angular_error', float)]) # angular error on position in radians\n",
    "    array.ID[:] = ID\n",
    "    array.topology[:] = topo\n",
    "    array.energy[:], array.energy_error[:] = E, np.array([EerrMin, EerrMax]).max(axis=0)\n",
    "    array.RA[:], array.DEC[:], array.angular_error[:] = np.radians(RA), np.radians(DEC), np.radians(AngEr)\n",
    "    \n",
    "    return array\n",
    "\n",
    "HESEEvents=loadEvents(\"catalogs/eventsummary_4years.txt\")"
   ]
  },
  {
   "cell_type": "markdown",
   "metadata": {},
   "source": [
    "## Display information for all HESE events"
   ]
  },
  {
   "cell_type": "code",
   "execution_count": 3,
   "metadata": {},
   "outputs": [
    {
     "name": "stdout",
     "output_type": "stream",
     "text": [
      "('topology', 'energy', 'energy_error', 'RA', 'DEC', 'ID', 'angular_error')\n",
      "[('Shower',   47.6,   6.5, 0.6143559 , -0.03141593,  1, 0.28448867)\n",
      " ('Shower',  117. ,  15.4, 4.93230047, -0.48869219,  2, 0.44331363)\n",
      " ('Track',   78.7,  10.8, 2.23227611, -0.54454273,  3, 0.02443461)\n",
      " ('Shower',  165.4,  19.8, 2.95833308, -0.89360858,  4, 0.12391838)\n",
      " ('Track',   71.4,   9. , 1.93033415, -0.00698132,  5, 0.02094395)\n",
      " ('Shower',   28.4,   2.7, 2.33699587, -0.47472956,  6, 0.17104227)\n",
      " ('Shower',   34.3,   3.5, 0.27227136, -0.78714349,  7, 0.42062435)\n",
      " ('Track',   32.6,  10.3, 3.18348056, -0.3700098 ,  8, 0.02268928)\n",
      " ('Shower',   63.2,   7.1, 2.64068316,  0.58643063,  9, 0.28797933)\n",
      " ('Shower',   97.2,  10.4, 0.08726646, -0.5131268 , 10, 0.14137167)\n",
      " ('Shower',   88.4,  12.5, 2.71049633, -0.1553343 , 11, 0.29146999)\n",
      " ('Shower',  104.1,  12.5, 5.16791992, -0.92153385, 12, 0.17104227)\n",
      " ('Track',  252.7,  25.9, 1.18507856,  0.70336769, 13, 0.02094395)\n",
      " ('Shower', 1040.7, 131.6, 4.63559449, -0.48694686, 14, 0.23038346)\n",
      " ('Shower',   57.5,   8.3, 5.01433094, -0.86742864, 15, 0.34382986)\n",
      " ('Shower',   30.6,   3.6, 3.35277749, -0.39444441, 16, 0.33859387)\n",
      " ('Shower',  199.7,  27.2, 4.31794457,  0.25307274, 17, 0.20245819)\n",
      " ('Track',   31.5,   4.6, 6.03185789, -0.43284165, 18, 0.02268928)\n",
      " ('Shower',   71.5,   7. , 1.34215819, -1.04196156, 19, 0.16929694)\n",
      " ('Shower', 1140.8, 142.8, 0.6684611 , -1.17286126, 20, 0.18675023)\n",
      " ('Shower',   30.2,   3.5, 0.15707963, -0.41887902, 21, 0.36477381)\n",
      " ('Shower',  219.5,  21.2, 5.12603201, -0.38571776, 22, 0.21118484)\n",
      " ('Track',   82.2,   8.6, 3.64250215, -0.23038346, 23, 0.03316126)\n",
      " ('Shower',   30.5,   3.2, 4.92531915, -0.26354472, 24, 0.27052603)\n",
      " ('Shower',   33.5,   4.9, 4.99164166, -0.25307274, 25, 0.80808744)\n",
      " ('Shower',  210. ,  29. , 2.50280215,  0.39618974, 26, 0.20594885)\n",
      " ('Shower',   60.2,   5.6, 2.1240657 , -0.21991149, 27, 0.11519173)\n",
      " ('Track',   46.1,   5.7, 2.87630261, -1.24791042, 28, 0.02268928)\n",
      " ('Shower',   32.7,   3.2, 5.2028265 ,  0.71558499, 29, 0.12915436)\n",
      " ('Shower',  128.7,  13.8, 1.80117979, -1.44338729, 30, 0.13962634)\n",
      " ('Shower',   42.5,   5.4, 2.54992604,  1.3665928 , 31, 0.45378561)\n",
      " ('Shower',  384.7,  46.4, 5.10508806,  0.13613568, 33, 0.23561945)\n",
      " ('Shower',   42.1,   6.5, 5.6443948 ,  0.54628806, 34, 0.74525559)\n",
      " ('Shower', 2003.7, 236.2, 3.63726616, -0.97389372, 35, 0.27750735)\n",
      " ('Shower',   28.9,   3. , 4.49771348, -0.05235988, 36, 0.20420352)\n",
      " ('Track',   30.8,   3.3, 2.91993584,  0.36128316, 37, 0.02094395)\n",
      " ('Track',  200.5,  16.4, 1.62839219,  0.2443461 , 38, 0.02094395)\n",
      " ('Shower',  101.3,  13.3, 1.85353967, -0.31241394, 39, 0.24783675)\n",
      " ('Shower',  157.3,  15.9, 2.51152879, -0.84648469, 40, 0.20420352)\n",
      " ('Shower',   87.6,   8.4, 1.15366264,  0.05759587, 41, 0.19373155)\n",
      " ('Shower',   76.3,  10.3, 0.74176493, -0.4415683 , 42, 0.36128316)\n",
      " ('Track',   46.5,   5.9, 3.60585023, -0.38397244, 43, 0.02268928)\n",
      " ('Track',   84.6,   7.4, 5.87652359,  0.        , 44, 0.02094395)\n",
      " ('Track',  429.9,  57.4, 3.82227106, -1.50621914, 45, 0.02094395)\n",
      " ('Shower',  158. ,  15.3, 2.62672052, -0.38920842, 46, 0.13264502)\n",
      " ('Track',   74.3,   8.3, 3.65471945,  1.17635192, 47, 0.02094395)\n",
      " ('Shower',  104.7,  13.5, 3.71755131, -0.57944931, 48, 0.14137167)\n",
      " ('Shower',   59.9,   8.3, 3.54650904, -0.45902159, 49, 0.38048178)\n",
      " ('Shower',   22.2,   2.3, 2.94262512,  1.03498025, 50, 0.143117  )\n",
      " ('Shower',   66.2,   6.7, 1.54636172,  0.9424778 , 51, 0.1134464 )\n",
      " ('Shower',  158.1,  16.3, 4.41219235, -0.9424778 , 52, 0.13613568)\n",
      " ('Track',   27.6,   2.6, 4.17133691, -0.65798913, 53, 0.02094395)\n",
      " ('Shower',   54.5,   5.1, 2.97578637,  0.10471976, 54, 0.20245819)]\n"
     ]
    }
   ],
   "source": [
    "print(HESEEvents.dtype.names)\n",
    "print(HESEEvents)"
   ]
  },
  {
   "cell_type": "markdown",
   "metadata": {},
   "source": [
    "## Load a catalog"
   ]
  },
  {
   "cell_type": "code",
   "execution_count": 4,
   "metadata": {},
   "outputs": [
    {
     "name": "stdout",
     "output_type": "stream",
     "text": [
      "catalog: catalogs/HAWC_Cat.txt\n",
      "ra  range [83.63, 307.93] deg\n",
      "dec range [-19.04, 41.76] deg\n"
     ]
    }
   ],
   "source": [
    "def loadCatalog(filename, log=True):\n",
    "    RA,DEC = np.loadtxt(filename,comments='#',usecols=(1,2), unpack =True)\n",
    "    NAMES = np.loadtxt(filename,comments='#',usecols=[0], unpack =True, dtype = 'str')\n",
    "    \n",
    "    array = np.recarray(len(DEC), [('name', NAMES.dtype), ('RA', float), ('DEC', float)])\n",
    "    array.name[:] = NAMES\n",
    "    array.DEC[:], array.RA[:] = np.radians(DEC), np.radians(RA)\n",
    "    \n",
    "    if log:\n",
    "        print(\"catalog: %s\" % filename)\n",
    "        print(\"ra  range [%.2f, %.2f] deg\" % (min(RA), max(RA)))\n",
    "        print(\"dec range [%.2f, %.2f] deg\" % (min(DEC), max(DEC)))\n",
    "\n",
    "    return array\n",
    "\n",
    "catalog=loadCatalog(\"catalogs/HAWC_Cat.txt\")"
   ]
  },
  {
   "cell_type": "markdown",
   "metadata": {},
   "source": [
    "## Show catalog contents"
   ]
  },
  {
   "cell_type": "code",
   "execution_count": 5,
   "metadata": {},
   "outputs": [
    {
     "name": "stdout",
     "output_type": "stream",
     "text": [
      "('name', 'RA', 'DEC')\n",
      "[('2HWC_J0534+220', 1.45961885,  0.3843215 )\n",
      " ('2HWC_J0631+169', 1.71042267,  0.29670597)\n",
      " ('2HWC_J0635+180', 1.7249089 ,  0.31503193)\n",
      " ('2HWC_J0700+143', 1.83469011,  0.24993115)\n",
      " ('2HWC_J0819+157', 2.1813125 ,  0.27558749)\n",
      " ('2HWC_J1040+308', 2.79636653,  0.53878314)\n",
      " ('2HWC_J1104+381', 2.89916642,  0.66601764)\n",
      " ('2HWC_J1309-054', 3.44370915, -0.09581858)\n",
      " ('2HWC_J1653+397', 4.42406059,  0.69446651)\n",
      " ('2HWC_J1809-190', 4.75532408, -0.33231069)\n",
      " ('2HWC_J1812-126', 4.76841405, -0.22060962)\n",
      " ('2HWC_J1814-173', 4.77382457, -0.30211649)\n",
      " ('2HWC_J1819-150*', 4.79668838, -0.26284659)\n",
      " ('2HWC_J1825-134', 4.82513725, -0.23387412)\n",
      " ('2HWC_J1829+070', 4.84049615,  0.12269665)\n",
      " ('2HWC_J1831-098', 4.84974639, -0.1727876 )\n",
      " ('2HWC_J1837-065', 4.8757518 , -0.11484266)\n",
      " ('2HWC_J1844-032', 4.90559693, -0.0567232 )\n",
      " ('2HWC_J1847-018', 4.92095583, -0.03193953)\n",
      " ('2HWC_J1849+001', 4.92863527,  0.00191986)\n",
      " ('2HWC_J1852+013*', 4.93945632,  0.02408554)\n",
      " ('2HWC_J1857+027', 4.96249466,  0.04886922)\n",
      " ('2HWC_J1902+048*', 4.98308955,  0.084823  )\n",
      " ('2HWC_J1907+084*', 5.00542976,  0.14835299)\n",
      " ('2HWC_J1908+063', 5.00996762,  0.11152654)\n",
      " ('2HWC_J1912+099', 5.02846811,  0.17331119)\n",
      " ('2HWC_J1914+117*', 5.03841648,  0.20455259)\n",
      " ('2HWC_J1921+131', 5.06669082,  0.22916173)\n",
      " ('2HWC_J1922+140', 5.07367214,  0.24591689)\n",
      " ('2HWC_J1928+177', 5.09897941,  0.31031954)\n",
      " ('2HWC_J1930+188', 5.10735699,  0.32882003)\n",
      " ('2HWC_J1938+238', 5.14418344,  0.41556289)\n",
      " ('2HWC_J1949+244', 5.19095826,  0.42690754)\n",
      " ('2HWC_J1953+294', 5.20561903,  0.51452306)\n",
      " ('2HWC_J1955+285', 5.2155674 ,  0.49898963)\n",
      " ('2HWC_J2006+341', 5.26304036,  0.59655354)\n",
      " ('2HWC_J2019+367', 5.32220702,  0.64228116)\n",
      " ('2HWC_J2020+403', 5.32604675,  0.70458942)\n",
      " ('2HWC_J2024+417*', 5.34140564,  0.7288495 )\n",
      " ('2HWC_J2031+415', 5.37439237,  0.72448617)]\n"
     ]
    }
   ],
   "source": [
    "print(catalog.dtype.names)\n",
    "print(catalog)"
   ]
  },
  {
   "cell_type": "markdown",
   "metadata": {},
   "source": [
    "## Construct probability density for signal event given a source"
   ]
  },
  {
   "cell_type": "code",
   "execution_count": 6,
   "metadata": {},
   "outputs": [],
   "source": [
    "def sph_dot(th1,th2,phi1,phi2):\n",
    "    return np.sin(th1)*np.sin(th2)*np.cos(phi1-phi2) + np.cos(th1)*np.cos(th2)\n",
    "\n",
    "# Implementation of the kent distribution\n",
    "def event_angular_distribution(event,source):\n",
    "    kappa = 1./(event.angular_error)**2\n",
    "    log_dist = np.log(kappa) - np.log(2*np.pi) - kappa + kappa*sph_dot(np.pi/2-event.DEC, np.pi/2-source.DEC, event.RA, source.RA)\n",
    "    return np.exp(log_dist)\n",
    "\n",
    "def S(event, source):\n",
    "    return event_angular_distribution(event, source)\n"
   ]
  },
  {
   "cell_type": "markdown",
   "metadata": {},
   "source": [
    "## Compute spatial probability density for signal from the source <br>2HWC J2031+415 using the location of the first HESE event"
   ]
  },
  {
   "cell_type": "markdown",
   "metadata": {},
   "source": [
    "the answer shound be 1.02e-5"
   ]
  },
  {
   "cell_type": "code",
   "execution_count": 7,
   "metadata": {},
   "outputs": [
    {
     "name": "stdout",
     "output_type": "stream",
     "text": [
      "First HESE event: ('Shower', 47.6, 6.5, 0.6143559, -0.03141593, 1, 0.28448867)\n",
      "2HWC J2031+415 location: (RA=307.93, dec=41.51)\n"
     ]
    },
    {
     "data": {
      "text/plain": [
       "array([1.01679244e-05])"
      ]
     },
     "execution_count": 7,
     "metadata": {},
     "output_type": "execute_result"
    }
   ],
   "source": [
    "print('First HESE event:',HESEEvents[0])\n",
    "source=catalog[catalog['name']=='2HWC_J2031+415']\n",
    "print('2HWC J2031+415 location: (RA=%.2f, dec=%.2f)'%(np.rad2deg(source.RA), np.rad2deg(source.DEC)))\n",
    "\n",
    "S(HESEEvents[0],source)"
   ]
  },
  {
   "cell_type": "markdown",
   "metadata": {},
   "source": [
    "## Constructing the likelihood/test statistic"
   ]
  },
  {
   "cell_type": "markdown",
   "metadata": {},
   "source": [
    "We will use the following likelihood definition\n",
    "\\begin{equation}\n",
    "\\mathcal{L}(ns) = \\prod_{i = 1}^N\\left[ \\frac{ns}{N} S_{i,c} + (1-\\frac{ns}{N}) B \\right], \\\\ B = 1/4\\pi, \\\\ S_{i,c} = S(event_i, source_c)\n",
    "\\end{equation}\n",
    "where $ns = 0$ is the null hypothesis and is bounded to be between zero and N, $S$ accounts for the event angular distribution, $B$ is the background distribution which we will assume isotropic ($1/4\\pi$). N is the total number of events. Go ahead and construct the $\\log\\mathcal{L}$."
   ]
  },
  {
   "cell_type": "markdown",
   "metadata": {},
   "source": [
    "### Test Statistic definition"
   ]
  },
  {
   "cell_type": "markdown",
   "metadata": {},
   "source": [
    "We are going to use the following test statistic (TS) definition<br><br>\n",
    "\\begin{equation}\n",
    "\\mathcal{TS} = 2 * \\log( \\mathcal{L}(ns) / \\mathcal{L}(ns=0) )\n",
    "\\end{equation}<br>\n",
    "\\begin{equation}\n",
    "\\mathcal{TS} = 2 * \\sum_{i = 1}^N \\log\\left[ \\frac{ns}{N} \\frac{S_{i,c}}{B} + (1-\\frac{ns}{N}) \\right]\n",
    "\\end{equation}"
   ]
  },
  {
   "cell_type": "markdown",
   "metadata": {},
   "source": [
    "## Step 1: Compute the first term in the sum of TS using ns = 1 and the source 2HWC J1814-173"
   ]
  },
  {
   "cell_type": "markdown",
   "metadata": {},
   "source": [
    "hint - compute the natural logarithm of the stuff inside the square brackets for the first HESE event and the catalog source with index 11. The answer should be -0.02"
   ]
  },
  {
   "cell_type": "code",
   "execution_count": 8,
   "metadata": {},
   "outputs": [
    {
     "name": "stdout",
     "output_type": "stream",
     "text": [
      "for source 2HWC_J1814-173\n",
      "first term is -0.019\n"
     ]
    }
   ],
   "source": [
    "source=catalog[catalog['name']=='2HWC_J1814-173'][0]\n",
    "N=len(HESEEvents)\n",
    "\n",
    "def log_term(ns, event, source):\n",
    "    return np.log( (ns/N) * S(event, source) * 4. * np.pi + (1 - ns/N) )\n",
    "\n",
    "print(\"for source %s\" % source['name'])\n",
    "print(\"first term is %0.3f\" % log_term(1, HESEEvents[0], source))"
   ]
  },
  {
   "cell_type": "markdown",
   "metadata": {},
   "source": [
    "## Step 2: Compute TS for ns = 1 by summing over all terms using  2HWC J1814-173"
   ]
  },
  {
   "cell_type": "markdown",
   "metadata": {},
   "source": [
    "The answer should be 0.96"
   ]
  },
  {
   "cell_type": "code",
   "execution_count": 9,
   "metadata": {},
   "outputs": [
    {
     "name": "stdout",
     "output_type": "stream",
     "text": [
      "TS is 0.96 for ns = 1.00\n"
     ]
    }
   ],
   "source": [
    "TS = 0\n",
    "ns = 1\n",
    "for event in HESEEvents:\n",
    "    TS += 2. * log_term(ns, event, source)\n",
    "\n",
    "print(\"TS is %.2f for ns = %.2f\" % (TS, ns))"
   ]
  },
  {
   "cell_type": "markdown",
   "metadata": {},
   "source": [
    "## Step 3: Maximize TS by scanning over values of ns between 0 and N to find the largest TS"
   ]
  },
  {
   "cell_type": "markdown",
   "metadata": {},
   "source": [
    "hint - ns doesn't have to be an integer"
   ]
  },
  {
   "cell_type": "code",
   "execution_count": 10,
   "metadata": {},
   "outputs": [
    {
     "name": "stdout",
     "output_type": "stream",
     "text": [
      "for source 2HWC_J1814-173\n",
      "maximum TS 1.45 for ns of 2.70\n"
     ]
    }
   ],
   "source": [
    "maximum = {'TS':0, 'ns':0}\n",
    "ns_scan=np.arange(0,5.01,0.1)\n",
    "\n",
    "for ns in ns_scan:\n",
    "    TS = 0\n",
    "    for event in HESEEvents:\n",
    "        TS += 2 * log_term(ns, event, source)\n",
    "    #print(\"ns %.2f, TS %.2f\" % (ns, TS))\n",
    "    \n",
    "    if TS > maximum['TS']:\n",
    "        maximum = {'TS':TS, 'ns':ns}\n",
    "        \n",
    "print(\"for source %s\" % source['name'])\n",
    "print(\"maximum TS %.2f for ns of %.2f\" % (maximum['TS'], maximum['ns']))"
   ]
  },
  {
   "cell_type": "markdown",
   "metadata": {},
   "source": [
    "## Step 4: Now find the maximum TS for the entire catalog"
   ]
  },
  {
   "cell_type": "markdown",
   "metadata": {
    "collapsed": true
   },
   "source": [
    "To test the entire catalog, modify the likelihood to average over the likelihood of each source:\n",
    "\\begin{equation}\n",
    "\\mathcal{L}(ns) = \\prod_{i = 1}^N\\left[ \\frac{1}{M}\\sum_{c=1}^M \\frac{ns}{N} S_{i,c} + (1-\\frac{ns}{N}) B \\right], \\\\ B = 1/4\\pi, \\\\ S_{i,c} = S(event_i, source_c)\n",
    "\\end{equation}\n",
    "where $ns = 0$ is the null hypothesis and is bounded to be between zero and N, $S$ accounts for the event angular distribution, $B$ is the background distribution which we will assume isotropic ($1/4\\pi$). N is the number of events and M is the number of sources in the catalog."
   ]
  },
  {
   "cell_type": "markdown",
   "metadata": {},
   "source": [
    "### Now, our TS becomes:"
   ]
  },
  {
   "cell_type": "markdown",
   "metadata": {},
   "source": [
    "\\begin{equation}\n",
    "\\mathcal{TS} = 2 * \\log( \\mathcal{L}(ns) / \\mathcal{L}(ns=0) )\n",
    "\\end{equation}<br>\n",
    "\\begin{equation}\n",
    "\\mathcal{TS} = 2 * \\sum_{i = 1}^N \\log\\left[\\frac{1}{M}\\sum_{c=1}^M \\frac{ns}{N} \\frac{S_{i,c}}{B} + (1-\\frac{ns}{N}) \\right]\n",
    "\\end{equation}"
   ]
  },
  {
   "cell_type": "code",
   "execution_count": 11,
   "metadata": {},
   "outputs": [],
   "source": [
    "def log_term_cat(ns, event, catalog):\n",
    "    sum = 0\n",
    "    \n",
    "    for source in catalog:\n",
    "        sum += (ns/N) * S(event, source) * 4 * np.pi + (1 - ns/N)\n",
    "    \n",
    "    return np.log( sum / catalog.size )"
   ]
  },
  {
   "cell_type": "code",
   "execution_count": 12,
   "metadata": {},
   "outputs": [
    {
     "name": "stdout",
     "output_type": "stream",
     "text": [
      "maximum TS 0.0045 for ns of 0.20\n"
     ]
    }
   ],
   "source": [
    "def catalog_ts(catalog):\n",
    "    maximum = {'TS':0, 'ns':0}\n",
    "    ns_scan = np.arange(0, HESEEvents.size, 0.1)\n",
    "    \n",
    "    for ns in ns_scan:\n",
    "        TS=0\n",
    "        for event in HESEEvents:\n",
    "            TS += 2 * log_term_cat(ns, event, catalog)\n",
    "        if TS > maximum['TS']:\n",
    "            maximum = {'TS':TS, 'ns':ns}\n",
    "        #print(\"ns %.2f, TS %.2f\" % (ns, TS))\n",
    "    \n",
    "    print(\"maximum TS %.4f for ns of %.2f\" % (maximum['TS'], maximum['ns']))\n",
    "\n",
    "catalog_ts(catalog)"
   ]
  },
  {
   "cell_type": "markdown",
   "metadata": {},
   "source": [
    "## Step 5: Collect the results of maximum TS and the corresponding ns for each catalog here"
   ]
  },
  {
   "cell_type": "code",
   "execution_count": 13,
   "metadata": {},
   "outputs": [
    {
     "name": "stdout",
     "output_type": "stream",
     "text": [
      "HAWC_Cat\n",
      "catalog: catalogs/HAWC_Cat.txt\n",
      "ra  range [83.63, 307.93] deg\n",
      "dec range [-19.04, 41.76] deg\n",
      "maximum TS 0.0045 for ns of 0.20\n",
      " \n",
      "SL_TeVCat\n",
      "catalog: catalogs/SL_TeVCat.txt\n",
      "ra  range [1.61, 359.79] deg\n",
      "dec range [-68.83, 72.98] deg\n",
      "maximum TS 0.0000 for ns of 0.00\n",
      " \n",
      "SourceListA\n",
      "catalog: catalogs/SourceListA.txt\n",
      "ra  range [12.06, 347.60] deg\n",
      "dec range [-78.36, 63.50] deg\n",
      "maximum TS 39.0701 for ns of 27.90\n",
      " \n",
      "SourceListB\n",
      "catalog: catalogs/SourceListB.txt\n",
      "ra  range [15.88, 360.79] deg\n",
      "dec range [-85.73, 100.12] deg\n",
      "maximum TS 96.1991 for ns of 52.90\n",
      " \n",
      "SourceListC\n",
      "catalog: catalogs/SourceListC.txt\n",
      "ra  range [11.39, 439.57] deg\n",
      "dec range [-84.54, 96.36] deg\n",
      "maximum TS 0.0056 for ns of 0.30\n",
      " \n"
     ]
    }
   ],
   "source": [
    "catalogs=['HAWC_Cat.txt','SL_TeVCat.txt','SourceListA.txt','SourceListB.txt', 'SourceListC.txt']\n",
    "for cat in catalogs:\n",
    "    print(cat[:-4])\n",
    "    catalog=loadCatalog(\"catalogs/{}\".format(cat))\n",
    "    catalog_ts(catalog)\n",
    "    print(' ')"
   ]
  },
  {
   "cell_type": "markdown",
   "metadata": {},
   "source": [
    "## Step 6: Plot the locations of events and sources in the catalog to see if you can understand why some catalogs give larger values of TS"
   ]
  },
  {
   "cell_type": "code",
   "execution_count": 14,
   "metadata": {},
   "outputs": [],
   "source": [
    "HAWC_Cat=loadCatalog('./catalogs/'+catalogs[0], log=False)\n",
    "SL_TeVCat=loadCatalog('./catalogs/'+catalogs[1], log=False)\n",
    "SourceListA=loadCatalog('./catalogs/'+catalogs[2], log=False)\n",
    "SourceListB=loadCatalog('./catalogs/'+catalogs[3], log=False)\n",
    "SourceListC=loadCatalog('./catalogs/'+catalogs[4], log=False)"
   ]
  },
  {
   "cell_type": "code",
   "execution_count": 15,
   "metadata": {},
   "outputs": [
    {
     "data": {
      "image/png": "[encoded data removed]",
      "text/plain": [
       "<Figure size 432x288 with 1 Axes>"
      ]
     },
     "metadata": {
      "needs_background": "light"
     },
     "output_type": "display_data"
    }
   ],
   "source": [
    "#plot HESE events\n",
    "plt.plot(np.degrees(HESEEvents.RA), np.degrees(HESEEvents.DEC),linestyle='none',marker='o', label='HESE Events')\n",
    "\n",
    "#plot catalogs\n",
    "plt.plot(np.degrees(HAWC_Cat.RA), np.degrees(HAWC_Cat.DEC),linestyle='none',marker='+', label='HAWC_Cat')\n",
    "plt.plot(np.degrees(SL_TeVCat.RA), np.degrees(SL_TeVCat.DEC),linestyle='none',marker='*', label='SL_TeVCat')\n",
    "plt.plot(np.degrees(SourceListA.RA), np.degrees(SourceListA.DEC),linestyle='none',marker='v',label='SourceListA')\n",
    "plt.plot(np.degrees(SourceListB.RA), np.degrees(SourceListB.DEC),linestyle='none',marker='^', label='SourceListB')\n",
    "plt.plot(np.degrees(SourceListC.RA), np.degrees(SourceListC.DEC),linestyle='none',marker='<', label='SourceListC')\n",
    "\n",
    "#plot options\n",
    "plt.xlim(0, 360)\n",
    "plt.ylim(-90, 90)\n",
    "plt.xticks([0,180,360])\n",
    "plt.yticks([-90,0,90])\n",
    "plt.xlabel(\"Right Ascension [deg]\")\n",
    "plt.ylabel(\"Declination [deg]\")\n",
    "\n",
    "plt.legend(loc=0)\n",
    "plt.show()"
   ]
  },
  {
   "cell_type": "code",
   "execution_count": 16,
   "metadata": {},
   "outputs": [
    {
     "name": "stdout",
     "output_type": "stream",
     "text": [
      "0.0 180.0 -180.0 180.0\n",
      "The interval between parallels is 30 deg -0.00'.\n",
      "The interval between meridians is 30 deg -0.00'.\n"
     ]
    },
    {
     "data": {
      "text/plain": [
       "<matplotlib.collections.PathCollection at 0x7f5412009550>"
      ]
     },
     "execution_count": 16,
     "metadata": {},
     "output_type": "execute_result"
    },
    {
     "data": {
      "image/png": "[encoded data removed]",
      "text/plain": [
       "<Figure size 432x288 with 1 Axes>"
      ]
     },
     "metadata": {
      "needs_background": "light"
     },
     "output_type": "display_data"
    }
   ],
   "source": [
    "import healpy as hp\n",
    "\n",
    "plt.figure()\n",
    "NPIX = hp.nside2npix(32)\n",
    "m = np.arange(NPIX)\n",
    "#hp.mollview(map=None, title=path)\n",
    "hp.graticule()\n",
    "hp.projscatter(np.pi/2 - HESEEvents.DEC, HESEEvents.RA)\n",
    "hp.projscatter(np.pi/2 - HAWC_Cat.DEC, HAWC_Cat.RA)\n",
    "#hp.projscatter(np.pi/2 - SL_TeVCat.DEC, SL_TeVCat.RA)\n",
    "#hp.projscatter(np.pi/2 - SourceListA.DEC, SourceListA.RA)\n",
    "#hp.projscatter(np.pi/2 - SourceListB.DEC, SourceListB.RA)\n",
    "#hp.projscatter(np.pi/2 - SourceListC.DEC, SourceListC.RA)"
   ]
  },
  {
   "cell_type": "markdown",
   "metadata": {},
   "source": [
    "## Bonus: Calculate a p-value for one of the catalog TS above\n",
    "\n",
    "Hint: Many times in the neutrino sources group, we use data-driven background estimation. This means we obtain an estimate of the what the background looks like from the data itself, rather than by simulating our detector. We can create a single set of events that describes the \"background\" case by simply scrambling our event data in right ascension. This means we will take the right ascension values for each of our events, and replace them with a new random value between 0 and 2 $\\pi$. In principle, we would also have to scramble in declination as well, but since our detector is located at the south pole, and has similar response for events of the same declination, we can get away with only scrambling in right ascension.\n",
    "\n",
    "Warning: If we were to do this section by calculating the TS for each background map, this section would require a lot of computing time. We would then want to move that code into a script you can put on the npx cluster. We've done that already and a pre-generated set of 1010 background trials run on the cluster can be loaded for this example."
   ]
  },
  {
   "cell_type": "code",
   "execution_count": 17,
   "metadata": {},
   "outputs": [],
   "source": [
    "#generates 1 map of data, but with the right ascension values randomized\n",
    "def scramble_ra(events):\n",
    "    scrambled_evts = np.copy(events)\n",
    "    ralist = scrambled_evts['RA']\n",
    "    random_ra = np.random.uniform(0,2.*np.pi, size=len(events))\n",
    "    scrambled_evts['RA'] = random_ra\n",
    "    return(scrambled_evts)\n"
   ]
  },
  {
   "cell_type": "code",
   "execution_count": 18,
   "metadata": {},
   "outputs": [
    {
     "data": {
      "text/plain": [
       "<matplotlib.legend.Legend at 0x7f541155fbd0>"
      ]
     },
     "execution_count": 18,
     "metadata": {},
     "output_type": "execute_result"
    },
    {
     "data": {
      "image/png": "[encoded data removed]",
      "text/plain": [
       "<Figure size 432x288 with 1 Axes>"
      ]
     },
     "metadata": {
      "needs_background": "light"
     },
     "output_type": "display_data"
    }
   ],
   "source": [
    "#Some test code to demonstrate this function\n",
    "scrambled_evts = scramble_ra(HESEEvents)\n",
    "\n",
    "#plot the unscrambled data\n",
    "hese_ra = HESEEvents['RA']\n",
    "hese_dec = HESEEvents['DEC']\n",
    "plt.plot(np.degrees(hese_ra), np.degrees(hese_dec), 'o', color='tab:blue', label='unscrambled HESE data')\n",
    "\n",
    "scram_ra = scrambled_evts['RA']\n",
    "scram_dec = scrambled_evts['DEC']\n",
    "plt.plot(np.degrees(scram_ra), np.degrees(scram_dec), 'o', color='tab:orange', label='scrambled HESE data (background estimate)')\n",
    "\n",
    "plt.xlabel('Right Ascension')\n",
    "plt.ylabel('Declination')\n",
    "plt.legend(loc=0)"
   ]
  },
  {
   "cell_type": "code",
   "execution_count": 19,
   "metadata": {},
   "outputs": [
    {
     "name": "stdout",
     "output_type": "stream",
     "text": [
      "[0. 0. 0. ... 0. 0. 0.] 1010\n"
     ]
    }
   ],
   "source": [
    "#A pre-generated set of 1010 trials from running on the cluster\n",
    "bgtsarr = np.load('./catalogs/bg_ts_arr.npy')\n",
    "print(bgtsarr, len(bgtsarr))"
   ]
  },
  {
   "cell_type": "code",
   "execution_count": 20,
   "metadata": {},
   "outputs": [
    {
     "name": "stdout",
     "output_type": "stream",
     "text": [
      "p-value: 0.18\n"
     ]
    },
    {
     "data": {
      "image/png": "[encoded data removed]",
      "text/plain": [
       "<Figure size 432x288 with 1 Axes>"
      ]
     },
     "metadata": {
      "needs_background": "light"
     },
     "output_type": "display_data"
    }
   ],
   "source": [
    "bghist, bgbins = np.histogram(bgtsarr, bins=np.linspace(0,10))\n",
    "bghist = np.concatenate([bghist,[0.]])\n",
    "plt.semilogy(bgbins, bghist, drawstyle='steps-post')\n",
    "plt.xlabel('TS')\n",
    "plt.ylabel('N')\n",
    "plt.xlim(0,)\n",
    "\n",
    "#The p-value is just the fraction of TS in our background distribution that are larger than a particular observed value\n",
    "obs_ts = 0.0045 #observed TS from HAWC catalog\n",
    "plt.axvline(obs_ts, color='r')\n",
    "p = len(bgtsarr[bgtsarr>obs_ts])/float(len(bgtsarr))\n",
    "print(\"p-value: %.2f\" % p)"
   ]
  },
  {
   "cell_type": "markdown",
   "metadata": {},
   "source": [
    "## Final Notes"
   ]
  },
  {
   "cell_type": "markdown",
   "metadata": {},
   "source": [
    "Here we've gone through a very basic construction that only focuses on the spatial difference between signal and background. However, one can also include spectral information to provide further power to the technique in cases where the energy distribution of events differs between signal and background. You can read more about that here https://arxiv.org/pdf/0801.1604.pdf. <br><br> Also, keep in mind this example is a learning exercise. We encourage you to use IceCube's established tools called <a href=\"https://user-web.icecube.wisc.edu/~mrichman/docs/csky/about.html\">csky</a> for point source analysis within the collaboration rather than writing your own code from scratch. Using a common package saves time and headaches for everyone!"
   ]
  },
  {
   "cell_type": "code",
   "execution_count": null,
   "metadata": {},
   "outputs": [],
   "source": []
  }
 ],
 "metadata": {
  "kernelspec": {
   "display_name": "Python 3",
   "language": "python",
   "name": "python3"
  },
  "language_info": {
   "codemirror_mode": {
    "name": "ipython",
    "version": 3
   },
   "file_extension": ".py",
   "mimetype": "text/x-python",
   "name": "python",
   "nbconvert_exporter": "python",
   "pygments_lexer": "ipython3",
   "version": "3.7.5"
  }
 },
 "nbformat": 4,
 "nbformat_minor": 1
}
